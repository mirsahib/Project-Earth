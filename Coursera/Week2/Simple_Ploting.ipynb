{
 "cells": [
  {
   "cell_type": "markdown",
   "metadata": {},
   "source": [
    "# Ebola virus<br>\n",
    "#### the data set is collected from:<br>https://en.wikipedia.org/wiki/West_African_Ebola_virus_epidemic_timeline_of_reported_cases_and_deaths"
   ]
  },
  {
   "cell_type": "code",
   "execution_count": 17,
   "metadata": {},
   "outputs": [
    {
     "data": {
      "text/plain": [
       "54×9 Array{Any,2}:\n",
       " \"25 Nov 2015\"  28637  11314  3804  2536  …  4808     14122     3955   \n",
       " \"18 Nov 2015\"  28634  11314  3804  2536     4808     14122     3955   \n",
       " \"11 Nov 2015\"  28635  11314  3805  2536     4808     14122     3955   \n",
       " \"4 Nov 2015\"   28607  11314  3810  2536     4808     14089     3955   \n",
       " \"25 Oct 2015\"  28539  11298  3806  2535     4808     14061     3955   \n",
       " \"18 Oct 2015\"  28476  11298  3803  2535  …  4808     14001     3955   \n",
       " \"11 Oct 2015\"  28454  11297  3800  2534     4808     13982     3955   \n",
       " \"27 Sep 2015\"  28388  11296  3805  2533     4808     13911     3955   \n",
       " \"20 Sep 2015\"  28295  11295  3800  2532     4808     13823     3955   \n",
       " \"13 Sep 2015\"  28220  11291  3792  2530     4808     13756     3953   \n",
       " \"6 Sep 2015\"   28147  11291  3792  2530  …  4808     13683     3953   \n",
       " \"30 Aug 2015\"  28073  11290  3792  2529     4808     13609     3953   \n",
       " \"16 Aug 2015\"  27952  11284  3786  2524     4808     13494     3952   \n",
       " ⋮                                        ⋱                            \n",
       " \"9 Aug 2014\"    1835   1011   506   373      323       730      315   \n",
       " \"30 Jul 2014\"   1437    825   472   346      227       574      252   \n",
       " \"23 Jul 2014\"   1201    672   427   319      129       525      224   \n",
       " \"14 Jul 2014\"    982    613   411   310  …   106       397      197   \n",
       " \"2 Jul 2014\"     779    481   412   305       75       252      101   \n",
       " \"17 Jun 2014\"    528    337   398   264       24        97       49   \n",
       " \"27 May 2014\"    309    202   281   186       11        16        5   \n",
       " \"12 May 2014\"    260    182   248   171       11          \"–\"      \"–\"\n",
       " \"1 May 2014\"     239    160   226   149  …    11          \"-\"      \"-\"\n",
       " \"14 Apr 2014\"    176    110   168   108        2          \"–\"      \"–\"\n",
       " \"31 Mar 2014\"    130     82   122    80        2          \"–\"      \"–\"\n",
       " \"22 Mar 2014\"     49     29    49    29         \"–\"       \"–\"      \"–\""
      ]
     },
     "execution_count": 17,
     "metadata": {},
     "output_type": "execute_result"
    }
   ],
   "source": [
    "wikiData = readdlm(\"wikipediaEVDraw.csv\",',')"
   ]
  },
  {
   "cell_type": "code",
   "execution_count": 4,
   "metadata": {},
   "outputs": [
    {
     "data": {
      "text/plain": [
       "2015-11-25T00:00:00"
      ]
     },
     "execution_count": 4,
     "metadata": {},
     "output_type": "execute_result"
    }
   ],
   "source": [
    "DateTime(wikiData[1,1],\"d u y\")#converting a date of the data file into julia compatible date time formate"
   ]
  },
  {
   "cell_type": "code",
   "execution_count": 9,
   "metadata": {},
   "outputs": [
    {
     "name": "stdout",
     "output_type": "stream",
     "text": [
      "method-1\n",
      "\n",
      "the number is 3\n",
      "the number is 4\n",
      "the number is 5\n",
      "the number is 6\n",
      "the number is 7\n",
      "\n",
      "method-2\n",
      "\n",
      "the values of x is now 23\n",
      "the values of x is now this is not a name\n",
      "the values of x is now α\n"
     ]
    }
   ],
   "source": [
    "#julia for loop\n",
    "#method 1:range formate\n",
    "println(\"method-1\\n\")\n",
    "for num = 3:7\n",
    "    println(\"the number is $num\")\n",
    "end\n",
    "#method 2:iterating over an array\n",
    "println(\"\\nmethod-2\\n\")\n",
    "values = [23,\"this is not a name\",'α']\n",
    "for x in values\n",
    "    println(\"the values of x is now $x\")\n",
    "end"
   ]
  },
  {
   "cell_type": "markdown",
   "metadata": {},
   "source": [
    "### converting csv file to julia compatible date time formate\n"
   ]
  },
  {
   "cell_type": "code",
   "execution_count": 10,
   "metadata": {},
   "outputs": [
    {
     "data": {
      "text/plain": [
       "54-element Array{Any,1}:\n",
       " \"25 Nov 2015\"\n",
       " \"18 Nov 2015\"\n",
       " \"11 Nov 2015\"\n",
       " \"4 Nov 2015\" \n",
       " \"25 Oct 2015\"\n",
       " \"18 Oct 2015\"\n",
       " \"11 Oct 2015\"\n",
       " \"27 Sep 2015\"\n",
       " \"20 Sep 2015\"\n",
       " \"13 Sep 2015\"\n",
       " \"6 Sep 2015\" \n",
       " \"30 Aug 2015\"\n",
       " \"16 Aug 2015\"\n",
       " ⋮            \n",
       " \"9 Aug 2014\" \n",
       " \"30 Jul 2014\"\n",
       " \"23 Jul 2014\"\n",
       " \"14 Jul 2014\"\n",
       " \"2 Jul 2014\" \n",
       " \"17 Jun 2014\"\n",
       " \"27 May 2014\"\n",
       " \"12 May 2014\"\n",
       " \"1 May 2014\" \n",
       " \"14 Apr 2014\"\n",
       " \"31 Mar 2014\"\n",
       " \"22 Mar 2014\""
      ]
     },
     "execution_count": 10,
     "metadata": {},
     "output_type": "execute_result"
    }
   ],
   "source": [
    "col1 = wikiData[:,1]#colon mean all the data in the column;1 mean 1st column\n"
   ]
  },
  {
   "cell_type": "code",
   "execution_count": 14,
   "metadata": {},
   "outputs": [],
   "source": [
    "#there are 54 elements that has to be formated\n",
    "for i = 1:54\n",
    "    col1[i] = DateTime(col1[i],\"d u y\")\n",
    "end"
   ]
  },
  {
   "cell_type": "code",
   "execution_count": 15,
   "metadata": {},
   "outputs": [
    {
     "data": {
      "text/plain": [
       "54-element Array{Any,1}:\n",
       " 2015-11-25T00:00:00\n",
       " 2015-11-18T00:00:00\n",
       " 2015-11-11T00:00:00\n",
       " 2015-11-04T00:00:00\n",
       " 2015-10-25T00:00:00\n",
       " 2015-10-18T00:00:00\n",
       " 2015-10-11T00:00:00\n",
       " 2015-09-27T00:00:00\n",
       " 2015-09-20T00:00:00\n",
       " 2015-09-13T00:00:00\n",
       " 2015-09-06T00:00:00\n",
       " 2015-08-30T00:00:00\n",
       " 2015-08-16T00:00:00\n",
       " ⋮                  \n",
       " 2014-08-09T00:00:00\n",
       " 2014-07-30T00:00:00\n",
       " 2014-07-23T00:00:00\n",
       " 2014-07-14T00:00:00\n",
       " 2014-07-02T00:00:00\n",
       " 2014-06-17T00:00:00\n",
       " 2014-05-27T00:00:00\n",
       " 2014-05-12T00:00:00\n",
       " 2014-05-01T00:00:00\n",
       " 2014-04-14T00:00:00\n",
       " 2014-03-31T00:00:00\n",
       " 2014-03-22T00:00:00"
      ]
     },
     "execution_count": 15,
     "metadata": {},
     "output_type": "execute_result"
    }
   ],
   "source": [
    "col1"
   ]
  },
  {
   "cell_type": "markdown",
   "metadata": {},
   "source": [
    "### epidemic day calculation\n",
    "\n",
    "**Date.datetime2rata()** function will calculate the time passes from january 1 of year 1 to current date(or epidemic day)\n",
    "\n",
    "the variable **epiday** will store how long the disease has been running\n",
    "\n",
    "the function **dis_since_epiday()** will calculate the number of days since the epidemic day is 0\n",
    "\n",
    "for more info:https://en.wikipedia.org/wiki/Rata_Die"
   ]
  },
  {
   "cell_type": "code",
   "execution_count": 27,
   "metadata": {
    "scrolled": true
   },
   "outputs": [],
   "source": [
    "dis_since_epiday(x)=Dates.datetime2rata(x)-Dates.datetime2rata(col1[54])\n",
    "epidays = Array{Int32}(54)\n",
    "for i =1:54\n",
    "    epidays[i] = dis_since_epiday(col1[i])\n",
    "end"
   ]
  },
  {
   "cell_type": "code",
   "execution_count": 28,
   "metadata": {},
   "outputs": [
    {
     "data": {
      "text/plain": [
       "54-element Array{Int32,1}:\n",
       " 613\n",
       " 606\n",
       " 599\n",
       " 592\n",
       " 582\n",
       " 575\n",
       " 568\n",
       " 554\n",
       " 547\n",
       " 540\n",
       " 533\n",
       " 526\n",
       " 512\n",
       "   ⋮\n",
       " 140\n",
       " 130\n",
       " 123\n",
       " 114\n",
       " 102\n",
       "  87\n",
       "  66\n",
       "  51\n",
       "  40\n",
       "  23\n",
       "   9\n",
       "   0"
      ]
     },
     "execution_count": 28,
     "metadata": {},
     "output_type": "execute_result"
    }
   ],
   "source": [
    "epidays"
   ]
  },
  {
   "cell_type": "code",
   "execution_count": 30,
   "metadata": {},
   "outputs": [],
   "source": [
    "#replacing column 1 of wikidata with epidays\n",
    "wikiData[:,1] = epidays\n",
    "writedlm(\"wikipediaEVDdatesformated.csv\",wikiData,',')"
   ]
  },
  {
   "cell_type": "markdown",
   "metadata": {},
   "source": [
    "## Simple ploting using plot package"
   ]
  },
  {
   "cell_type": "markdown",
   "metadata": {},
   "source": [
    "**wikiData** represent the Ebola virus datasets<br>\n",
    "**epidays** stores the value of days the disease is running(column 1 of the dataset)<br>\n",
    "**allcases** stores the number of ebola virus case(column 2 of the dataset)."
   ]
  },
  {
   "cell_type": "code",
   "execution_count": 3,
   "metadata": {},
   "outputs": [
    {
     "data": {
      "text/plain": [
       "54×9 Array{Any,2}:\n",
       " 613  28637  11314  3804  2536  10675     4808     14122     3955   \n",
       " 606  28634  11314  3804  2536  10672     4808     14122     3955   \n",
       " 599  28635  11314  3805  2536  10672     4808     14122     3955   \n",
       " 592  28607  11314  3810  2536  10672     4808     14089     3955   \n",
       " 582  28539  11298  3806  2535  10672     4808     14061     3955   \n",
       " 575  28476  11298  3803  2535  10672     4808     14001     3955   \n",
       " 568  28454  11297  3800  2534  10672     4808     13982     3955   \n",
       " 554  28388  11296  3805  2533  10672     4808     13911     3955   \n",
       " 547  28295  11295  3800  2532  10672     4808     13823     3955   \n",
       " 540  28220  11291  3792  2530  10672     4808     13756     3953   \n",
       " 533  28147  11291  3792  2530  10672     4808     13683     3953   \n",
       " 526  28073  11290  3792  2529  10672     4808     13609     3953   \n",
       " 512  27952  11284  3786  2524  10672     4808     13494     3952   \n",
       "   ⋮                                ⋮                               \n",
       " 140   1835   1011   506   373    599      323       730      315   \n",
       " 130   1437    825   472   346    391      227       574      252   \n",
       " 123   1201    672   427   319    249      129       525      224   \n",
       " 114    982    613   411   310    174      106       397      197   \n",
       " 102    779    481   412   305    115       75       252      101   \n",
       "  87    528    337   398   264     33       24        97       49   \n",
       "  66    309    202   281   186     12       11        16        5   \n",
       "  51    260    182   248   171     12       11          \"–\"      \"–\"\n",
       "  40    239    160   226   149     13       11          \"-\"      \"-\"\n",
       "  23    176    110   168   108      8        2          \"–\"      \"–\"\n",
       "   9    130     82   122    80      8        2          \"–\"      \"–\"\n",
       "   0     49     29    49    29       \"–\"      \"–\"       \"–\"      \"–\""
      ]
     },
     "execution_count": 3,
     "metadata": {},
     "output_type": "execute_result"
    }
   ],
   "source": [
    "wikiData = readdlm(\"wikipediaEVDdatesformated.csv\",',')"
   ]
  },
  {
   "cell_type": "code",
   "execution_count": 4,
   "metadata": {},
   "outputs": [],
   "source": [
    "epiday = wikiData[:,1];\n",
    "allcases = wikiData[:,2];"
   ]
  },
  {
   "cell_type": "code",
   "execution_count": 5,
   "metadata": {},
   "outputs": [
    {
     "data": {
      "text/plain": [
       "54-element Array{Any,1}:\n",
       " 28637\n",
       " 28634\n",
       " 28635\n",
       " 28607\n",
       " 28539\n",
       " 28476\n",
       " 28454\n",
       " 28388\n",
       " 28295\n",
       " 28220\n",
       " 28147\n",
       " 28073\n",
       " 27952\n",
       "     ⋮\n",
       "  1835\n",
       "  1437\n",
       "  1201\n",
       "   982\n",
       "   779\n",
       "   528\n",
       "   309\n",
       "   260\n",
       "   239\n",
       "   176\n",
       "   130\n",
       "    49"
      ]
     },
     "execution_count": 5,
     "metadata": {},
     "output_type": "execute_result"
    }
   ],
   "source": [
    "allcases"
   ]
  },
  {
   "cell_type": "markdown",
   "metadata": {},
   "source": [
    "### Graph type-1"
   ]
  },
  {
   "cell_type": "code",
   "execution_count": 7,
   "metadata": {},
   "outputs": [
    {
     "data": {
      "image/png": "[encoded data removed]"
     },
     "execution_count": 7,
     "metadata": {},
     "output_type": "execute_result"
    }
   ],
   "source": [
    "using Plots\n",
    "pyplot()\n",
    "plot(epiday,allcases)"
   ]
  },
  {
   "cell_type": "markdown",
   "metadata": {},
   "source": [
    "### Graph type-2"
   ]
  },
  {
   "cell_type": "code",
   "execution_count": 8,
   "metadata": {},
   "outputs": [
    {
     "data": {
      "image/png": "[encoded data removed]"
     },
     "execution_count": 8,
     "metadata": {},
     "output_type": "execute_result"
    }
   ],
   "source": [
    "plot(epiday,allcases,linetype= :scatter,marker= :diamond)"
   ]
  },
  {
   "cell_type": "markdown",
   "metadata": {},
   "source": [
    "### Graph type-3"
   ]
  },
  {
   "cell_type": "code",
   "execution_count": 15,
   "metadata": {},
   "outputs": [
    {
     "data": {
      "image/png": "[encoded data removed]"
     },
     "execution_count": 15,
     "metadata": {},
     "output_type": "execute_result"
    }
   ],
   "source": [
    "plot(epiday,allcases,\n",
    "title = \"West Africa EVD epidemic,total cases\",\n",
    "xlabel = \"Days since 22 Mar 2014\",\n",
    "ylabel = \"Total cases to date(three countries)\",\n",
    "marker = (:diamond,5),\n",
    "linetype = :path,\n",
    "legend = false,\n",
    "grid = false\n",
    ")"
   ]
  },
  {
   "cell_type": "markdown",
   "metadata": {},
   "source": [
    "### Save the current plot\n",
    "default save file is png but you can save as pdf in that case you have to mention the filetype eg:<br>\n",
    "`savefig(\"filename.pdf\")`"
   ]
  },
  {
   "cell_type": "code",
   "execution_count": 16,
   "metadata": {},
   "outputs": [],
   "source": [
    "savefig(\"WestAfricaEVD_noFormateSpecified\")"
   ]
  }
 ],
 "metadata": {
  "kernelspec": {
   "display_name": "Julia 0.6.2",
   "language": "julia",
   "name": "julia-0.6"
  },
  "language_info": {
   "file_extension": ".jl",
   "mimetype": "application/julia",
   "name": "julia",
   "version": "0.6.2"
  }
 },
 "nbformat": 4,
 "nbformat_minor": 2
}
